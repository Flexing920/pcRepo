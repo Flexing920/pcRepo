{
 "cells": [
  {
   "cell_type": "code",
   "execution_count": 1,
   "id": "latin-campaign",
   "metadata": {},
   "outputs": [
    {
     "data": {
      "text/plain": [
       "'C:\\\\Users\\\\TianxinPC\\\\condaPythonProjects'"
      ]
     },
     "execution_count": 1,
     "metadata": {},
     "output_type": "execute_result"
    }
   ],
   "source": [
    "%pwd"
   ]
  },
  {
   "cell_type": "code",
   "execution_count": 1,
   "id": "abandoned-still",
   "metadata": {},
   "outputs": [
    {
     "name": "stdout",
     "output_type": "stream",
     "text": [
      " Volume in drive C has no label.\n",
      " Volume Serial Number is E658-F001\n",
      "\n",
      " Directory of C:\\Users\\TianxinPC\\condaPythonProjects\n",
      "\n",
      "02/10/2021  01:10 PM    <DIR>          .\n",
      "02/10/2021  01:10 PM    <DIR>          ..\n",
      "02/10/2021  01:07 PM    <DIR>          .ipynb_checkpoints\n",
      "02/10/2021  01:10 PM    <DIR>          .vscode\n",
      "02/10/2021  01:04 PM               946 test.ipynb\n",
      "02/10/2021  01:13 PM                35 vs-codeTest.py\n",
      "               2 File(s)            981 bytes\n",
      "               4 Dir(s)  99,372,457,984 bytes free\n"
     ]
    }
   ],
   "source": [
    "%ls"
   ]
  },
  {
   "cell_type": "code",
   "execution_count": null,
   "id": "suited-luxembourg",
   "metadata": {},
   "outputs": [],
   "source": []
  }
 ],
 "metadata": {
  "kernelspec": {
   "display_name": "tlvenv",
   "language": "python",
   "name": "tlvenv"
  },
  "language_info": {
   "codemirror_mode": {
    "name": "ipython",
    "version": 3
   },
   "file_extension": ".py",
   "mimetype": "text/x-python",
   "name": "python",
   "nbconvert_exporter": "python",
   "pygments_lexer": "ipython3",
   "version": "3.8.5"
  }
 },
 "nbformat": 4,
 "nbformat_minor": 5
}
